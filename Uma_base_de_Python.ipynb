{
 "cells": [
  {
   "cell_type": "markdown",
   "id": "d06599c2-2d58-4a44-85fa-785a9e6f7140",
   "metadata": {},
   "source": [
    "# Tipos básicos de Python"
   ]
  },
  {
   "cell_type": "code",
   "execution_count": 25,
   "id": "16537847-0173-45be-b10a-cf83d7cf442b",
   "metadata": {},
   "outputs": [],
   "source": [
    "## TIpos básicos de pyrhon\n",
    "# Inteiro\n",
    "# Float\n",
    "# String\n",
    "# Boleano\n",
    "\n",
    "texto = 'Newmar'\n",
    "x = 2 \n",
    "y = 4\n",
    "z = 6\n",
    "a = True\n",
    "b = False\n"
   ]
  },
  {
   "cell_type": "markdown",
   "id": "496b2f42-7bb7-4659-acdb-cca8bf2c5189",
   "metadata": {},
   "source": [
    "## Tipos de operadores com python "
   ]
  },
  {
   "cell_type": "code",
   "execution_count": 26,
   "id": "2f62a4ea-110c-45f6-859c-8361a3f30140",
   "metadata": {},
   "outputs": [
    {
     "name": "stdout",
     "output_type": "stream",
     "text": [
      "6\n",
      "-2\n",
      "8\n",
      "0.5\n",
      "16\n",
      "3\n",
      "2\n",
      "NewmarNewmar\n",
      "O instrutor se chama Newmar\n",
      "O valor atual de x é: 2\n"
     ]
    }
   ],
   "source": [
    "## Tipos de operadores com python \n",
    "# + - * / ** *= += \n",
    "\n",
    "#Adição\n",
    "print(x + y) \n",
    "\n",
    "#Subtração\n",
    "print(x - y)\n",
    "\n",
    "#Multiplicação\n",
    "print(x * y)\n",
    "\n",
    "#Divisão \n",
    "print(x / y)\n",
    "\n",
    "#Potenciação\n",
    "print(x ** y)\n",
    "\n",
    "#incrementar\n",
    "x+= 1 \n",
    "print(x)\n",
    "\n",
    "#Decrementar\n",
    "x -= 1 \n",
    "print(x)\n",
    "\n",
    "#Divisão inteira \n",
    "4%3\n",
    "\n",
    "#Repetição de string\n",
    "print(2*texto)\n",
    "\n",
    "#Concatenação de strings\n",
    "print('O instrutor se chama ' + texto)\n",
    "print('O valor atual de x é: ' + str(x))"
   ]
  },
  {
   "cell_type": "markdown",
   "id": "b99cde27-0fd3-4061-a710-40784c22e723",
   "metadata": {},
   "source": [
    "# Operadores de comparação com Python"
   ]
  },
  {
   "cell_type": "code",
   "execution_count": 34,
   "id": "3207ee68-46fa-46c9-ac01-11713b4b3adf",
   "metadata": {},
   "outputs": [
    {
     "name": "stdout",
     "output_type": "stream",
     "text": [
      "2 4\n",
      "False\n",
      "True\n",
      "True\n",
      "False\n",
      "False\n",
      "True\n",
      "False\n",
      "True\n",
      "True\n",
      "True\n",
      "True\n",
      "False\n"
     ]
    }
   ],
   "source": [
    "# > < == >= <= !=\n",
    "\n",
    "print(x, y)\n",
    "print( x > y)\n",
    "print (y > x)\n",
    "print( x < y)\n",
    "print (y < x)\n",
    "print( x == y)\n",
    "print (y == 4)\n",
    "print(x >= y)\n",
    "print(x >= 2)\n",
    "print(x <= y)\n",
    "print(x <= 2)\n",
    "print(x != y)\n",
    "print(x != 2)"
   ]
  },
  {
   "cell_type": "code",
   "execution_count": null,
   "id": "4146940c-e5ce-45f9-b87b-c74ec41bc097",
   "metadata": {},
   "outputs": [],
   "source": []
  }
 ],
 "metadata": {
  "kernelspec": {
   "display_name": "Python 3 (ipykernel)",
   "language": "python",
   "name": "python3"
  },
  "language_info": {
   "codemirror_mode": {
    "name": "ipython",
    "version": 3
   },
   "file_extension": ".py",
   "mimetype": "text/x-python",
   "name": "python",
   "nbconvert_exporter": "python",
   "pygments_lexer": "ipython3",
   "version": "3.11.7"
  }
 },
 "nbformat": 4,
 "nbformat_minor": 5
}
